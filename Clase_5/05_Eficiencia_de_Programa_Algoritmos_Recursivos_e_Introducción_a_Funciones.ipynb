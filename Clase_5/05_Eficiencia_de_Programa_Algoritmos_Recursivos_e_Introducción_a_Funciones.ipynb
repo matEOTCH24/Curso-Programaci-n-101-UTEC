{
  "nbformat": 4,
  "nbformat_minor": 0,
  "metadata": {
    "colab": {
      "provenance": [],
      "include_colab_link": true
    },
    "kernelspec": {
      "name": "python3",
      "display_name": "Python 3"
    },
    "language_info": {
      "name": "python"
    }
  },
  "cells": [
    {
      "cell_type": "markdown",
      "metadata": {
        "id": "view-in-github",
        "colab_type": "text"
      },
      "source": [
        "<a href=\"https://colab.research.google.com/github/matEOTCH24/Curso-Programaci-n-101-UTEC/blob/main/Clase_5/05_Eficiencia_de_Programa_Algoritmos_Recursivos_e_Introducci%C3%B3n_a_Funciones.ipynb\" target=\"_parent\"><img src=\"https://colab.research.google.com/assets/colab-badge.svg\" alt=\"Open In Colab\"/></a>"
      ]
    },
    {
      "cell_type": "markdown",
      "source": [
        "<img src=\"https://www.ctic.uni.edu.pe/wp-content/uploads/2022/04/588px-x-348px-web-1.png\" alt=\"HTML5 Icon\" width=\"900\" height=\"350\" >\n"
      ],
      "metadata": {
        "id": "kpRjEjfp-AbE"
      }
    },
    {
      "cell_type": "markdown",
      "source": [
        "# Eficiencia del Programa, Algoritmos Recursivos e Introducción a Funciones"
      ],
      "metadata": {
        "id": "D7AkNgnu97O2"
      }
    },
    {
      "cell_type": "markdown",
      "source": [
        "## Objetivo:\n",
        "\n",
        "Este laboratorio está diseñado para que los estudiantes comprendan el uso de funciones en Python, cómo medir la eficiencia de un programa y cómo implementar y optimizar algoritmos recursivos."
      ],
      "metadata": {
        "id": "5O1ZbxoL-EAB"
      }
    },
    {
      "cell_type": "markdown",
      "source": [
        "---\n",
        "\n",
        "## 1. Introducción a Funciones\n",
        "\n",
        "### 1.1 Concepto de Funciones\n",
        "Una función es un bloque de código reutilizable que realiza una tarea específica. Las funciones permiten modularizar el código, haciéndolo más limpio, legible y reutilizable. Además, las funciones facilitan la recursión, que es clave en muchos algoritmos eficientes.\n",
        "\n"
      ],
      "metadata": {
        "id": "ETPiaVoC-IYp"
      }
    },
    {
      "cell_type": "markdown",
      "source": [
        "**Sintaxis de una Función en Python:**"
      ],
      "metadata": {
        "id": "gLWVPCax-Noz"
      }
    },
    {
      "cell_type": "code",
      "execution_count": null,
      "metadata": {
        "id": "Ungfjy3J96ax"
      },
      "outputs": [],
      "source": [
        "def nombre_funcion(argumentos):\n",
        "    # Cuerpo de la función\n",
        "    return resultado\n"
      ]
    },
    {
      "cell_type": "markdown",
      "source": [
        "**Ejemplo de Función Básica:**"
      ],
      "metadata": {
        "id": "TVQjuxJa-RAn"
      }
    },
    {
      "cell_type": "code",
      "source": [
        "def saludar(nombre):\n",
        "    return f\"Hola, {nombre}!\"\n",
        "\n",
        "print(saludar(\"Juan\"))  # Llamada a la función\n"
      ],
      "metadata": {
        "id": "JVbSyQPt-TVn"
      },
      "execution_count": null,
      "outputs": []
    },
    {
      "cell_type": "code",
      "source": [],
      "metadata": {
        "id": "t5Y0i3B7-dPZ"
      },
      "execution_count": null,
      "outputs": []
    },
    {
      "cell_type": "markdown",
      "source": [
        "### 1.2 Parámetros y Argumentos\n",
        "\n",
        "Una función puede recibir uno o más parámetros, que son valores que se pasan a la función cuando se la llama."
      ],
      "metadata": {
        "id": "xX0osRfN-VPm"
      }
    },
    {
      "cell_type": "markdown",
      "source": [
        "**Ejemplo:**"
      ],
      "metadata": {
        "id": "ekfgA4m1-cOQ"
      }
    },
    {
      "cell_type": "code",
      "source": [
        "def sumar(a, b):\n",
        "    return a + b\n",
        "\n",
        "resultado = sumar(3, 5)  # Llamada a la función\n",
        "print(resultado)  # Imprime 8"
      ],
      "metadata": {
        "id": "MDCKsn5N-Zhm"
      },
      "execution_count": null,
      "outputs": []
    },
    {
      "cell_type": "markdown",
      "source": [
        "**Ejercicio 1.1:**\n",
        "\n",
        "Escribe una función multiplicar(a, b) que reciba dos números y devuelva su producto.\n",
        "Crea una función llamada es_par(numero) que reciba un número y devuelva True si es par, o False si es impar.\n"
      ],
      "metadata": {
        "id": "sGEbWZUd-ga2"
      }
    },
    {
      "cell_type": "markdown",
      "source": [
        "### 1.3 Funciones con Valor por Defecto\n",
        "\n",
        "Las funciones pueden tener parámetros con valores por defecto, lo que permite llamarlas sin especificar todos los argumentos.\n",
        "\n",
        "**Ejemplo:**"
      ],
      "metadata": {
        "id": "HM9VnIyQ-l6v"
      }
    },
    {
      "cell_type": "code",
      "source": [
        "def saludar(nombre=\"desconocido\"):\n",
        "    return f\"Hola, {nombre}!\"\n",
        "\n",
        "print(saludar())  # Llama a la función sin argumento\n",
        "print(saludar(\"Ana\"))  # Llama a la función con argumento\n"
      ],
      "metadata": {
        "id": "DIviXyc4-qkO"
      },
      "execution_count": null,
      "outputs": []
    },
    {
      "cell_type": "markdown",
      "source": [
        "**Ejercicio 1.2:**\n",
        "\n",
        "Crea una función llamada area_rectangulo(base, altura=10) que devuelva el área de un rectángulo. Si no se proporciona la altura, que sea 10 por defecto."
      ],
      "metadata": {
        "id": "i3oUVUjb-sLs"
      }
    },
    {
      "cell_type": "markdown",
      "source": [
        "## 2. Eficiencia del Programa\n",
        "\n",
        "### 2.1 Notación Big-O y Complejidad Temporal"
      ],
      "metadata": {
        "id": "RCWfJOTU-vnM"
      }
    },
    {
      "cell_type": "markdown",
      "source": [
        "Las funciones permiten organizar algoritmos que se pueden medir en términos de su eficiencia temporal usando la notación Big-O."
      ],
      "metadata": {
        "id": "mFrUJ4ii-0Pi"
      }
    },
    {
      "cell_type": "markdown",
      "source": [
        "**Ejemplo de Búsqueda Lineal (O(n)):**\n"
      ],
      "metadata": {
        "id": "h-Ls7mOc-2RP"
      }
    },
    {
      "cell_type": "code",
      "source": [
        "def busqueda_lineal(lista, objetivo):\n",
        "    for i in range(len(lista)):\n",
        "        if lista[i] == objetivo:\n",
        "            return i\n",
        "    return -1\n"
      ],
      "metadata": {
        "id": "0U58KQyE-zyO"
      },
      "execution_count": null,
      "outputs": []
    },
    {
      "cell_type": "markdown",
      "source": [
        "**Ejercicio 2.1:**\n",
        "\n",
        "Implementa una función busqueda_binaria(lista, objetivo) y compara su tiempo de ejecución con busqueda_lineal()."
      ],
      "metadata": {
        "id": "JUzVij-R-7eY"
      }
    },
    {
      "cell_type": "markdown",
      "source": [
        "### 2.2 Complejidad Espacial\n"
      ],
      "metadata": {
        "id": "OfTzR_US-_sT"
      }
    },
    {
      "cell_type": "markdown",
      "source": [
        "Además de la complejidad temporal, es importante considerar la complejidad espacial, que mide la cantidad de memoria usada por el algoritmo."
      ],
      "metadata": {
        "id": "AogQdwdu_D-A"
      }
    },
    {
      "cell_type": "markdown",
      "source": [
        "**Ejemplo de Ordenamiento Burbuja (O(n^2)):**"
      ],
      "metadata": {
        "id": "cIqCFTtu_Fdq"
      }
    },
    {
      "cell_type": "code",
      "source": [
        "def burbuja(arr):\n",
        "    n = len(arr)\n",
        "    for i in range(n):\n",
        "        for j in range(0, n-i-1):\n",
        "            if arr[j] > arr[j+1]:\n",
        "                arr[j], arr[j+1] = arr[j+1], arr[j]\n"
      ],
      "metadata": {
        "id": "Bh5QDIyK-7Oz"
      },
      "execution_count": null,
      "outputs": []
    },
    {
      "cell_type": "markdown",
      "source": [
        "**Ejercicio 2.2:**\n",
        "\n",
        "Implementa burbuja() y merge_sort() en dos funciones diferentes. Evalúa su tiempo de ejecución en listas de diferentes tamaños (1,000, 10,000, 100,000)."
      ],
      "metadata": {
        "id": "Rn-Oeaq6_J20"
      }
    },
    {
      "cell_type": "markdown",
      "source": [
        "## 3. Algoritmos Recursivos\n"
      ],
      "metadata": {
        "id": "DXMHJoAc_O6_"
      }
    },
    {
      "cell_type": "markdown",
      "source": [
        "## 3.1 Concepto de Recursión\n",
        "\n",
        "Una función es recursiva si se llama a sí misma hasta llegar a un caso base, lo que permite descomponer problemas grandes en problemas más pequeños.\n",
        "\n"
      ],
      "metadata": {
        "id": "Dnh1aLGF_Rjg"
      }
    },
    {
      "cell_type": "markdown",
      "source": [
        "**Ejemplo de Factorial Recursivo:**\n"
      ],
      "metadata": {
        "id": "38QkdcUI_U3v"
      }
    },
    {
      "cell_type": "code",
      "source": [
        "def factorial(n):\n",
        "    if n == 0:\n",
        "        return 1\n",
        "    return n * factorial(n - 1)\n"
      ],
      "metadata": {
        "id": "aFC9uAYc_XEt"
      },
      "execution_count": null,
      "outputs": []
    },
    {
      "cell_type": "markdown",
      "source": [
        "**Ejercicio 3.1:**\n",
        "\n",
        "Escribe una función recursiva para calcular la serie de Fibonacci.\n",
        "Crea una versión iterativa del mismo problema y compara el tiempo de ejecución."
      ],
      "metadata": {
        "id": "dxSbvX6A_Y3m"
      }
    },
    {
      "cell_type": "markdown",
      "source": [
        "### 3.2 Recursión y Funciones de Orden Superior\n",
        "\n",
        "Las funciones de orden superior son funciones que reciben otras funciones como argumentos, lo que puede ser útil para ciertos problemas recursivos.\n",
        "\n",
        "\n",
        "**Ejemplo de Función Recursiva para Encontrar el Máximo:**"
      ],
      "metadata": {
        "id": "jk-5HuAq_czK"
      }
    },
    {
      "cell_type": "code",
      "source": [
        "def maximo(lista):\n",
        "    if len(lista) == 1:\n",
        "        return lista[0]\n",
        "    else:\n",
        "        max_restante = maximo(lista[1:])\n",
        "        return lista[0] if lista[0] > max_restante else max_restante\n"
      ],
      "metadata": {
        "id": "UqX1ENO8_hlw"
      },
      "execution_count": null,
      "outputs": []
    },
    {
      "cell_type": "markdown",
      "source": [
        "**Ejercicio 3.2:**\n",
        "\n",
        "Implementa una función recursiva para encontrar el mínimo de una lista.\n",
        "Crea una función recursiva que invierta una lista de números."
      ],
      "metadata": {
        "id": "V1Bz16aM_jsO"
      }
    },
    {
      "cell_type": "markdown",
      "source": [
        "---"
      ],
      "metadata": {
        "id": "EOW10t2h_omm"
      }
    },
    {
      "cell_type": "markdown",
      "source": [
        "## Conclusión del Laboratorio\n",
        "\n",
        "Este laboratorio proporciona una introducción a funciones, la base para trabajar con algoritmos recursivos y medir la eficiencia de los programas. A lo largo del laboratorio, has creado funciones que realizan tareas clave y evaluado cómo varían en eficiencia en diferentes escenarios."
      ],
      "metadata": {
        "id": "A41jdqaS_mtf"
      }
    },
    {
      "cell_type": "markdown",
      "source": [
        "---\n",
        "\n",
        "# Gracias por completar este laboratorio!\n",
        "\n",
        "---"
      ],
      "metadata": {
        "id": "7TG1VELS_r3t"
      }
    }
  ]
}